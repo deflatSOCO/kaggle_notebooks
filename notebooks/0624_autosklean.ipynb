{
 "cells": [
  {
   "cell_type": "code",
   "execution_count": 1,
   "metadata": {
    "collapsed": true
   },
   "outputs": [],
   "source": [
    "import pandas as pd\n",
    "import math\n",
    "import matplotlib.pyplot as plt\n",
    "import numpy as np\n",
    "import seaborn as sns\n",
    "\n",
    "from sklearn.linear_model import LogisticRegression\n",
    "from sklearn.svm import SVC, LinearSVC\n",
    "from sklearn.ensemble import RandomForestClassifier\n",
    "from sklearn.neighbors import KNeighborsClassifier\n",
    "from sklearn.naive_bayes import GaussianNB\n",
    "from sklearn.linear_model import Perceptron\n",
    "from sklearn.linear_model import SGDClassifier\n",
    "from sklearn.tree import DecisionTreeClassifier\n",
    "from sklearn.model_selection import KFold\n",
    "from sklearn.decomposition import PCA\n",
    "\n",
    "# 本当にこれは効くのか？\n",
    "import autosklearn.classification"
   ]
  },
  {
   "cell_type": "markdown",
   "metadata": {},
   "source": [
    "データ詳細(生データ)\n",
    "\n",
    "| Variable | Definition | Key |\n",
    "|:-------:|:---|:----|\n",
    "|survived | Survival | 0 = No, 1 = Yes |\n",
    "|Pclass | Ticket class | 1 = 1st, 2 = 2nd, 3 = 3rd |\n",
    "| Name | name | |\n",
    "|Sex| Sex | |\n",
    "|Age | Age in years | | \n",
    "|SibSp | # of siblings / spouses aboard the Titanic\t| |\n",
    "|Parch | # of parents / children aboard the Titanic\t| |\n",
    "|Ticket | Ticket number | |\n",
    "|Fare | Passenger fare | |\n",
    "|Cabin | Cabin number | |\n",
    "|Embarked | Port of Embarkation | C = Cherbourg, Q = Queenstown, S = Southampton |"
   ]
  },
  {
   "cell_type": "code",
   "execution_count": 2,
   "metadata": {
    "collapsed": true
   },
   "outputs": [],
   "source": [
    "train_df=pd.read_csv(\"../data/raw/train.csv\")\n",
    "test_df=pd.read_csv(\"../data/raw/test.csv\")\n",
    "combine=[train_df, test_df]"
   ]
  },
  {
   "cell_type": "markdown",
   "metadata": {},
   "source": [
    "とりあえず性別を数値化"
   ]
  },
  {
   "cell_type": "code",
   "execution_count": 3,
   "metadata": {
    "collapsed": true
   },
   "outputs": [],
   "source": [
    "for dataset in combine:\n",
    "    dataset['Sex'] = dataset['Sex'].map( {'female': 1, 'male': 0} ).astype(int)"
   ]
  },
  {
   "cell_type": "markdown",
   "metadata": {},
   "source": [
    "名前の敬称を抜き出してみる"
   ]
  },
  {
   "cell_type": "code",
   "execution_count": 4,
   "metadata": {
    "scrolled": true
   },
   "outputs": [
    {
     "name": "stderr",
     "output_type": "stream",
     "text": [
      "/Users/syo-oco/.pyenv/versions/miniconda3-latest/lib/python3.5/site-packages/ipykernel_launcher.py:1: FutureWarning: currently extract(expand=None) means expand=False (return Index/Series/DataFrame) but in a future version of pandas this will be changed to expand=True (return DataFrame)\n",
      "  \"\"\"Entry point for launching an IPython kernel.\n",
      "/Users/syo-oco/.pyenv/versions/miniconda3-latest/lib/python3.5/site-packages/ipykernel_launcher.py:2: FutureWarning: currently extract(expand=None) means expand=False (return Index/Series/DataFrame) but in a future version of pandas this will be changed to expand=True (return DataFrame)\n",
      "  \n"
     ]
    },
    {
     "data": {
      "text/plain": [
       "Mr          517\n",
       "Miss        182\n",
       "Mrs         125\n",
       "Master       40\n",
       "Dr            7\n",
       "Rev           6\n",
       "Major         2\n",
       "Col           2\n",
       "Mlle          2\n",
       "Lady          1\n",
       "Sir           1\n",
       "Countess      1\n",
       "Capt          1\n",
       "Ms            1\n",
       "Jonkheer      1\n",
       "Mme           1\n",
       "Don           1\n",
       "Name: Title, dtype: int64"
      ]
     },
     "execution_count": 4,
     "metadata": {},
     "output_type": "execute_result"
    }
   ],
   "source": [
    "train_df[\"Title\"]=train_df.Name.str.extract(\"([A-Za-z]+)\\.\")\n",
    "test_df[\"Title\"]=train_df.Name.str.extract(\"([A-Za-z]+)\\.\")\n",
    "train_df[\"Title\"].value_counts()"
   ]
  },
  {
   "cell_type": "code",
   "execution_count": 5,
   "metadata": {
    "collapsed": true
   },
   "outputs": [],
   "source": [
    "for dataset in combine:\n",
    "    dataset['Title'] = dataset['Title'].replace(['Lady', 'Countess',\\\n",
    " \t'Don', 'Jonkheer'], 'Noble')\n",
    "    dataset['Title'] = dataset['Title'].replace(['Capt', 'Col',\\\n",
    " \t'Dr', 'Major', 'Rev', 'Sir'], 'Rare')\n",
    "    dataset['Title'] = dataset['Title'].replace('Mlle', 'Miss')\n",
    "    dataset['Title'] = dataset['Title'].replace('Ms', 'Miss')\n",
    "    dataset['Title'] = dataset['Title'].replace('Mme', 'Mrs')"
   ]
  },
  {
   "cell_type": "code",
   "execution_count": 6,
   "metadata": {
    "collapsed": true
   },
   "outputs": [],
   "source": [
    "title_mapping = {\"Mr\": 1, \"Miss\": 2, \"Mrs\": 3, \"Master\": 4, \"Rare\": 5, \"Noble\":6}\n",
    "for x in combine:\n",
    "    x['Title'] =x['Title'].replace(title_mapping)"
   ]
  },
  {
   "cell_type": "code",
   "execution_count": 7,
   "metadata": {
    "collapsed": true
   },
   "outputs": [],
   "source": [
    "freq = train_df.Embarked.dropna().mode()[0]\n",
    "port_mapping={\"C\":0, \"Q\":1, \"S\":2}\n",
    "for dataset in combine:\n",
    "    dataset[\"Embarked\"]=dataset[\"Embarked\"].fillna(freq)\n",
    "    dataset[\"Embarked\"]=dataset[\"Embarked\"].map(port_mapping)"
   ]
  },
  {
   "cell_type": "code",
   "execution_count": 8,
   "metadata": {
    "collapsed": true
   },
   "outputs": [],
   "source": [
    "for j in train_df.Title.unique():\n",
    "    guess_med=train_df[\n",
    "             (train_df['Title'] == j)]['Age'].dropna().median()\n",
    "    train_df.loc[(train_df.Age.isnull()) & (train_df.Title==j),\"Age\"]=int(guess_med)\n",
    "    test_df.loc[(test_df.Age.isnull()) & (test_df.Title==j),\"Age\"]=int(guess_med)"
   ]
  },
  {
   "cell_type": "code",
   "execution_count": 9,
   "metadata": {},
   "outputs": [
    {
     "name": "stderr",
     "output_type": "stream",
     "text": [
      "/Users/syo-oco/.pyenv/versions/miniconda3-latest/lib/python3.5/site-packages/ipykernel_launcher.py:2: FutureWarning: currently extract(expand=None) means expand=False (return Index/Series/DataFrame) but in a future version of pandas this will be changed to expand=True (return DataFrame)\n",
      "  \n"
     ]
    }
   ],
   "source": [
    "for i in range(0, len(train_df)):\n",
    "    train_df.loc[i,\"Fname\"] = \"{}_{}_{}\".format(train_df.Name.str.extract(\"([A-Za-z]+)\\,\")[i], \\\n",
    "                                                train_df.loc[i,\"SibSp\"]+train_df.loc[i,\"Parch\"], \\\n",
    "                                            train_df.loc[i,\"Ticket\"])"
   ]
  },
  {
   "cell_type": "code",
   "execution_count": 10,
   "metadata": {
    "collapsed": true
   },
   "outputs": [],
   "source": [
    "for dataset in combine:\n",
    "    dataset[\"Family\"]=dataset[\"SibSp\"]+dataset[\"Parch\"]"
   ]
  },
  {
   "cell_type": "code",
   "execution_count": 11,
   "metadata": {
    "collapsed": true
   },
   "outputs": [],
   "source": [
    "for k in train_df[\"Fname\"].unique():\n",
    "    train_df.loc[train_df[\"Fname\"]==k, \"Scount\"]= \\\n",
    "    len(train_df[(train_df[\"Fname\"]==k) & (train_df[\"Survived\"]==1)])\n",
    "for i in range(0, len(train_df)):\n",
    "    train_df.loc[i, \"Scount\"]=(train_df.loc[i, \"Scount\"]-train_df.loc[i, \"Survived\"])"
   ]
  },
  {
   "cell_type": "code",
   "execution_count": 12,
   "metadata": {},
   "outputs": [
    {
     "name": "stderr",
     "output_type": "stream",
     "text": [
      "/Users/syo-oco/.pyenv/versions/miniconda3-latest/lib/python3.5/site-packages/ipykernel_launcher.py:2: FutureWarning: currently extract(expand=None) means expand=False (return Index/Series/DataFrame) but in a future version of pandas this will be changed to expand=True (return DataFrame)\n",
      "  \n"
     ]
    }
   ],
   "source": [
    "for i in range(0,len(test_df)):\n",
    "    fname=\"{}_{}_{}\".format(test_df.Name.str.extract(\"([A-Za-z]+)\\,\")[i], \\\n",
    "                                                test_df.loc[i,\"SibSp\"]+test_df.loc[i,\"Parch\"], \\\n",
    "                                            test_df.loc[i,\"Ticket\"])\n",
    "    if(fname in train_df[\"Fname\"].unique()):\n",
    "        test_df.loc[i,\"Scount\"]= \\\n",
    "        len(train_df[(train_df[\"Fname\"]==fname) & (train_df[\"Survived\"]==1)])\n",
    "    else:\n",
    "        test_df.loc[i,\"Scount\"]=0"
   ]
  },
  {
   "cell_type": "code",
   "execution_count": 13,
   "metadata": {
    "collapsed": true
   },
   "outputs": [],
   "source": [
    "train_df[\"Solo\"]=train_df[\"Family\"]==0\n",
    "test_df[\"Solo\"]=test_df[\"Family\"]==0"
   ]
  },
  {
   "cell_type": "code",
   "execution_count": 14,
   "metadata": {
    "collapsed": true
   },
   "outputs": [],
   "source": [
    "for j in train_df.Pclass.unique():\n",
    "    guess_med=train_df[\n",
    "             (train_df['Pclass'] == j)]['Fare'].dropna().median()\n",
    "    test_df.loc[(test_df.Fare.isnull()) & (test_df.Pclass==j),\"Fare\"]=guess_med"
   ]
  },
  {
   "cell_type": "code",
   "execution_count": 15,
   "metadata": {
    "collapsed": true
   },
   "outputs": [],
   "source": [
    "nbin=5\n",
    "min_val=min(train_df[\"Fare\"])+1.0e-7\n",
    "max_val=max(train_df[\"Fare\"])\n",
    "bins = pd.qcut(train_df[\"Fare\"], nbin, retbins=True, labels=list(range(0,nbin)))\n",
    "train_df[\"Fare\"] = bins[0]\n",
    "test_df.loc[test_df.Fare < min_val, \"Fare\"]=min_val\n",
    "test_df.loc[test_df.Fare > max_val, \"Fare\"]=max_val\n",
    "test_df[\"Fare\"] = pd.cut(test_df[\"Fare\"], bins[1], labels=list(range(0,nbin)))"
   ]
  },
  {
   "cell_type": "code",
   "execution_count": 16,
   "metadata": {
    "collapsed": true
   },
   "outputs": [],
   "source": [
    "nbin=8\n",
    "min_val=min(train_df[\"Age\"])\n",
    "max_val=max(train_df[\"Age\"])\n",
    "bins = pd.cut(train_df[\"Age\"], nbin, retbins=True, labels=list(range(0,nbin)))\n",
    "train_df[\"Age\"] = bins[0]\n",
    "test_df.loc[test_df.Age < min_val, \"Age\"]=min_val\n",
    "test_df.loc[test_df.Age > max_val, \"Age\"]=max_val\n",
    "test_df[\"Age\"] = pd.cut(test_df[\"Age\"], bins[1], labels=list(range(0,nbin)))"
   ]
  },
  {
   "cell_type": "code",
   "execution_count": 17,
   "metadata": {
    "collapsed": true
   },
   "outputs": [],
   "source": [
    "train_df.Scount=train_df.Scount.astype(int)\n",
    "test_df.Scount=test_df.Scount.astype(int)"
   ]
  },
  {
   "cell_type": "code",
   "execution_count": 18,
   "metadata": {
    "collapsed": true
   },
   "outputs": [],
   "source": [
    "train_df[\"Family_Survived\"]=train_df[\"Scount\"]!=0\n",
    "test_df[\"Family_Survived\"]=test_df[\"Scount\"]!=0"
   ]
  },
  {
   "cell_type": "code",
   "execution_count": 19,
   "metadata": {
    "collapsed": true
   },
   "outputs": [],
   "source": [
    "train_df=train_df.drop([\"SibSp\", \"Parch\",\"Fname\"], axis=1)\n",
    "test_df=test_df.drop([\"SibSp\", \"Parch\"], axis=1)\n",
    "train_df = train_df.drop([\"Name\", \"PassengerId\"], axis=1)\n",
    "test_df = test_df.drop([\"Name\"], axis=1)\n",
    "train_df=train_df.drop([\"Ticket\", \"Cabin\"], axis=1)\n",
    "test_df=test_df.drop([\"Ticket\", \"Cabin\"], axis=1)\n",
    "train_df=train_df.drop([\"Scount\"], axis=1)\n",
    "test_df=test_df.drop([\"Scount\"], axis=1)\n",
    "combine=[train_df, test_df]"
   ]
  },
  {
   "cell_type": "code",
   "execution_count": 20,
   "metadata": {
    "collapsed": true
   },
   "outputs": [],
   "source": [
    "def plot_variable_importance( X , y ,n):\n",
    "    tree = DecisionTreeClassifier( random_state = 99 )\n",
    "    tree.fit( X , y )\n",
    "    \n",
    "    return plot_model_var_imp( tree , X , y ,n)\n",
    "    \n",
    "def plot_model_var_imp( model , X , y, n ):\n",
    "    imp = pd.DataFrame( \n",
    "        model.feature_importances_  , \n",
    "        columns = [ 'Importance' ] , \n",
    "        index = X.columns \n",
    "    )\n",
    "    imp = imp.sort_values( [ 'Importance' ] , ascending = False )\n",
    "    imp[ : n].plot( kind = 'barh' )\n",
    "    print (model.score( X , y ))\n",
    "    return imp[:n]\n",
    "\n",
    "def calc_acc_cv(model, folds, df):\n",
    "    acc_list = []\n",
    "\n",
    "    for train_idx, test_idx in KFold(n_splits=5).split(df):\n",
    "\n",
    "        X_train = df.loc[train_idx,:].drop(\"Survived\", axis=1)\n",
    "        Y_train = df.loc[train_idx,\"Survived\"]\n",
    "        X_test  = df.loc[test_idx,:].drop(\"Survived\", axis=1)\n",
    "        Y_test =  df.loc[test_idx,\"Survived\"]\n",
    "        model.fit(X_train, Y_train)\n",
    "        acc = round(model.score(X_test, Y_test) * 100, 2)\n",
    "        acc_list.append(acc)\n",
    "        \n",
    "    return np.mean(acc_list)\n",
    "def calc_model_score(model):\n",
    "        X_train = train_df.drop(\"Survived\", axis=1)\n",
    "        Y_train = train_df[\"Survived\"]\n",
    "        model.fit(X_train, Y_train)\n",
    "        return model.score(X_train, Y_train)\n",
    "    \n",
    "def get_predict(model):\n",
    "    X_train = train_df.drop(\"Survived\", axis=1)\n",
    "    Y_train = train_df[\"Survived\"]\n",
    "    X_test  = test_df.drop(\"PassengerId\", axis=1)\n",
    "    model.fit(X_train, Y_train)\n",
    "    Y_pred = model.predict(X_test)\n",
    "    return Y_pred"
   ]
  },
  {
   "cell_type": "code",
   "execution_count": 21,
   "metadata": {},
   "outputs": [
    {
     "name": "stdout",
     "output_type": "stream",
     "text": [
      "0.911335578002\n"
     ]
    },
    {
     "data": {
      "image/png": "[encoded data removed]",
      "text/plain": [
       "<matplotlib.figure.Figure at 0x11137fba8>"
      ]
     },
     "metadata": {},
     "output_type": "display_data"
    }
   ],
   "source": [
    "ret=plot_variable_importance(train_df.drop(\"Survived\",axis=1), train_df[\"Survived\"], 20)\n",
    "sns.plt.show()\n",
    "#lst=list(ret.index)\n",
    "#lst.append(\"Survived\")"
   ]
  },
  {
   "cell_type": "code",
   "execution_count": 24,
   "metadata": {},
   "outputs": [
    {
     "name": "stdout",
     "output_type": "stream",
     "text": [
      "[WARNING] [2017-06-24 23:48:44,032:smac.intensification.intensification.Intensifier] Challenger was the same as the current incumbent; Skipping challenger\n",
      "[WARNING] [2017-06-24 23:48:44,032:smac.intensification.intensification.Intensifier] Challenger was the same as the current incumbent; Skipping challenger\n"
     ]
    },
    {
     "name": "stderr",
     "output_type": "stream",
     "text": [
      "You are already timing task: index_run3\n",
      "You are already timing task: index_run4\n",
      "You are already timing task: index_run4\n",
      "You are already timing task: index_run4\n",
      "You are already timing task: index_run4\n",
      "You are already timing task: index_run4\n",
      "You are already timing task: index_run4\n",
      "You are already timing task: index_run4\n",
      "You are already timing task: index_run4\n",
      "You are already timing task: index_run4\n",
      "You are already timing task: index_run4\n",
      "You are already timing task: index_run4\n",
      "You are already timing task: index_run4\n",
      "You are already timing task: index_run5\n",
      "You are already timing task: index_run5\n",
      "You are already timing task: index_run5\n",
      "You are already timing task: index_run5\n",
      "You are already timing task: index_run5\n",
      "You are already timing task: index_run5\n",
      "You are already timing task: index_run5\n",
      "You are already timing task: index_run6\n",
      "You are already timing task: index_run6\n",
      "You are already timing task: index_run6\n",
      "You are already timing task: index_run7\n",
      "You are already timing task: index_run8\n",
      "You are already timing task: index_run8\n",
      "You are already timing task: index_run8\n",
      "You are already timing task: index_run8\n",
      "You are already timing task: index_run8\n",
      "You are already timing task: index_run8\n",
      "You are already timing task: index_run8\n",
      "You are already timing task: index_run8\n",
      "You are already timing task: index_run8\n",
      "You are already timing task: index_run8\n",
      "You are already timing task: index_run8\n",
      "You are already timing task: index_run8\n"
     ]
    },
    {
     "name": "stdout",
     "output_type": "stream",
     "text": [
      "[WARNING] [2017-06-24 23:52:32,258:smac.intensification.intensification.Intensifier] Challenger was the same as the current incumbent; Skipping challenger\n",
      "[WARNING] [2017-06-24 23:52:32,258:smac.intensification.intensification.Intensifier] Challenger was the same as the current incumbent; Skipping challenger\n"
     ]
    },
    {
     "name": "stderr",
     "output_type": "stream",
     "text": [
      "You are already timing task: index_run9\n",
      "You are already timing task: index_run9\n",
      "You are already timing task: index_run9\n",
      "You are already timing task: index_run11\n",
      "You are already timing task: index_run11\n",
      "You are already timing task: index_run11\n",
      "You are already timing task: index_run15\n",
      "You are already timing task: index_run15\n",
      "You are already timing task: index_run15\n",
      "You are already timing task: index_run15\n",
      "You are already timing task: index_run15\n",
      "You are already timing task: index_run15\n",
      "You are already timing task: index_run15\n",
      "You are already timing task: index_run16\n",
      "You are already timing task: index_run17\n",
      "You are already timing task: index_run17\n",
      "You are already timing task: index_run17\n",
      "You are already timing task: index_run17\n",
      "You are already timing task: index_run18\n",
      "You are already timing task: index_run18\n",
      "You are already timing task: index_run18\n",
      "You are already timing task: index_run18\n",
      "You are already timing task: index_run18\n",
      "You are already timing task: index_run18\n",
      "You are already timing task: index_run18\n",
      "You are already timing task: index_run18\n",
      "You are already timing task: index_run18\n",
      "You are already timing task: index_run18\n",
      "You are already timing task: index_run18\n",
      "You are already timing task: index_run18\n",
      "You are already timing task: index_run18\n",
      "You are already timing task: index_run18\n",
      "You are already timing task: index_run18\n",
      "You are already timing task: index_run18\n",
      "You are already timing task: index_run18\n",
      "You are already timing task: index_run18\n",
      "You are already timing task: index_run19\n",
      "You are already timing task: index_run19\n",
      "You are already timing task: index_run19\n",
      "You are already timing task: index_run19\n",
      "You are already timing task: index_run19\n",
      "You are already timing task: index_run19\n",
      "You are already timing task: index_run19\n",
      "You are already timing task: index_run19\n",
      "You are already timing task: index_run19\n",
      "You are already timing task: index_run19\n",
      "You are already timing task: index_run19\n",
      "You are already timing task: index_run19\n",
      "You are already timing task: index_run21\n",
      "You are already timing task: index_run22\n",
      "You are already timing task: index_run22\n",
      "You are already timing task: index_run22\n",
      "You are already timing task: index_run22\n",
      "You are already timing task: index_run23\n",
      "You are already timing task: index_run23\n",
      "You are already timing task: index_run23\n",
      "You are already timing task: index_run23\n",
      "You are already timing task: index_run23\n",
      "You are already timing task: index_run23\n",
      "You are already timing task: index_run23\n",
      "You are already timing task: index_run23\n",
      "You are already timing task: index_run23\n",
      "You are already timing task: index_run23\n",
      "You are already timing task: index_run23\n",
      "You are already timing task: index_run24\n",
      "You are already timing task: index_run24\n",
      "You are already timing task: index_run24\n",
      "You are already timing task: index_run24\n",
      "You are already timing task: index_run24\n"
     ]
    },
    {
     "name": "stdout",
     "output_type": "stream",
     "text": [
      "[WARNING] [2017-06-24 23:58:44,473:smac.intensification.intensification.Intensifier] Challenger was the same as the current incumbent; Skipping challenger\n",
      "[WARNING] [2017-06-24 23:58:44,473:smac.intensification.intensification.Intensifier] Challenger was the same as the current incumbent; Skipping challenger\n"
     ]
    },
    {
     "name": "stderr",
     "output_type": "stream",
     "text": [
      "You are already timing task: index_run24\n",
      "You are already timing task: index_run24\n",
      "You are already timing task: index_run24\n",
      "You are already timing task: index_run24\n",
      "You are already timing task: index_run24\n",
      "You are already timing task: index_run24\n",
      "You are already timing task: index_run24\n",
      "You are already timing task: index_run24\n",
      "You are already timing task: index_run24\n",
      "You are already timing task: index_run24\n",
      "You are already timing task: index_run26\n",
      "You are already timing task: index_run26\n",
      "You are already timing task: index_run26\n",
      "You are already timing task: index_run26\n",
      "You are already timing task: index_run26\n",
      "You are already timing task: index_run26\n",
      "You are already timing task: index_run26\n",
      "You are already timing task: index_run26\n",
      "You are already timing task: index_run26\n",
      "You are already timing task: index_run26\n",
      "You are already timing task: index_run26\n",
      "You are already timing task: index_run26\n",
      "You are already timing task: index_run26\n",
      "You are already timing task: index_run26\n",
      "You are already timing task: index_run26\n",
      "You are already timing task: index_run26\n",
      "You are already timing task: index_run26\n",
      "You are already timing task: index_run26\n",
      "You are already timing task: index_run26\n",
      "You are already timing task: index_run26\n",
      "You are already timing task: index_run28\n",
      "You are already timing task: index_run29\n",
      "You are already timing task: index_run29\n",
      "You are already timing task: index_run29\n",
      "You are already timing task: index_run29\n",
      "You are already timing task: index_run29\n",
      "You are already timing task: index_run29\n",
      "You are already timing task: index_run29\n",
      "You are already timing task: index_run29\n",
      "You are already timing task: index_run29\n",
      "You are already timing task: index_run29\n",
      "You are already timing task: index_run29\n",
      "You are already timing task: index_run29\n",
      "You are already timing task: index_run29\n",
      "You are already timing task: index_run29\n",
      "You are already timing task: index_run29\n",
      "You are already timing task: index_run29\n",
      "You are already timing task: index_run29\n",
      "You are already timing task: index_run29\n",
      "You are already timing task: index_run29\n",
      "You are already timing task: index_run29\n",
      "You are already timing task: index_run29\n",
      "You are already timing task: index_run29\n",
      "You are already timing task: index_run29\n",
      "You are already timing task: index_run29\n",
      "You are already timing task: index_run29\n",
      "You are already timing task: index_run29\n",
      "You are already timing task: index_run29\n",
      "You are already timing task: index_run29\n",
      "You are already timing task: index_run29\n",
      "You are already timing task: index_run29\n",
      "You are already timing task: index_run29\n",
      "You are already timing task: index_run29\n",
      "You are already timing task: index_run29\n",
      "You are already timing task: index_run29\n",
      "You are already timing task: index_run29\n",
      "You are already timing task: index_run29\n"
     ]
    },
    {
     "name": "stdout",
     "output_type": "stream",
     "text": [
      "[WARNING] [2017-06-25 00:04:33,380:smac.intensification.intensification.Intensifier] Challenger was the same as the current incumbent; Skipping challenger\n",
      "[WARNING] [2017-06-25 00:04:33,380:smac.intensification.intensification.Intensifier] Challenger was the same as the current incumbent; Skipping challenger\n"
     ]
    },
    {
     "name": "stderr",
     "output_type": "stream",
     "text": [
      "You are already timing task: index_run29\n",
      "You are already timing task: index_run29\n",
      "You are already timing task: index_run29\n",
      "You are already timing task: index_run29\n",
      "You are already timing task: index_run29\n",
      "You are already timing task: index_run29\n",
      "You are already timing task: index_run29\n",
      "You are already timing task: index_run29\n",
      "You are already timing task: index_run29\n",
      "You are already timing task: index_run29\n",
      "You are already timing task: index_run29\n",
      "You are already timing task: index_run29\n",
      "You are already timing task: index_run29\n",
      "You are already timing task: index_run29\n",
      "You are already timing task: index_run29\n",
      "You are already timing task: index_run29\n",
      "You are already timing task: index_run29\n",
      "You are already timing task: index_run29\n",
      "You are already timing task: index_run29\n",
      "You are already timing task: index_run29\n",
      "You are already timing task: index_run29\n",
      "You are already timing task: index_run29\n",
      "You are already timing task: index_run29\n",
      "You are already timing task: index_run29\n",
      "You are already timing task: index_run29\n",
      "You are already timing task: index_run29\n",
      "You are already timing task: index_run29\n",
      "You are already timing task: index_run29\n",
      "You are already timing task: index_run29\n",
      "You are already timing task: index_run29\n",
      "You are already timing task: index_run29\n",
      "You are already timing task: index_run29\n",
      "You are already timing task: index_run29\n",
      "You are already timing task: index_run29\n",
      "You are already timing task: index_run29\n",
      "You are already timing task: index_run29\n",
      "You are already timing task: index_run29\n",
      "You are already timing task: index_run29\n",
      "You are already timing task: index_run29\n",
      "You are already timing task: index_run29\n",
      "You are already timing task: index_run29\n",
      "You are already timing task: index_run29\n",
      "You are already timing task: index_run29\n",
      "You are already timing task: index_run29\n",
      "You are already timing task: index_run29\n",
      "You are already timing task: index_run29\n",
      "You are already timing task: index_run29\n",
      "You are already timing task: index_run29\n",
      "You are already timing task: index_run29\n",
      "You are already timing task: index_run29\n",
      "You are already timing task: index_run29\n",
      "You are already timing task: index_run29\n",
      "You are already timing task: index_run29\n",
      "You are already timing task: index_run29\n",
      "You are already timing task: index_run29\n",
      "You are already timing task: index_run29\n",
      "You are already timing task: index_run29\n",
      "You are already timing task: index_run29\n",
      "You are already timing task: index_run29\n",
      "You are already timing task: index_run29\n",
      "You are already timing task: index_run29\n",
      "You are already timing task: index_run29\n",
      "You are already timing task: index_run29\n",
      "You are already timing task: index_run29\n",
      "You are already timing task: index_run29\n",
      "You are already timing task: index_run29\n",
      "You are already timing task: index_run29\n",
      "You are already timing task: index_run29\n",
      "You are already timing task: index_run29\n",
      "You are already timing task: index_run29\n",
      "You are already timing task: index_run29\n",
      "You are already timing task: index_run29\n",
      "You are already timing task: index_run29\n",
      "You are already timing task: index_run29\n",
      "You are already timing task: index_run29\n",
      "You are already timing task: index_run29\n",
      "You are already timing task: index_run29\n",
      "You are already timing task: index_run29\n",
      "You are already timing task: index_run29\n",
      "You are already timing task: index_run29\n",
      "You are already timing task: index_run29\n",
      "You are already timing task: index_run29\n",
      "You are already timing task: index_run29\n",
      "You are already timing task: index_run29\n",
      "You are already timing task: index_run29\n",
      "You are already timing task: index_run29\n",
      "You are already timing task: index_run29\n",
      "You are already timing task: index_run29\n",
      "You are already timing task: index_run29\n",
      "You are already timing task: index_run29\n",
      "You are already timing task: index_run29\n",
      "You are already timing task: index_run29\n",
      "You are already timing task: index_run29\n",
      "You are already timing task: index_run29\n",
      "You are already timing task: index_run29\n",
      "You are already timing task: index_run29\n",
      "You are already timing task: index_run29\n",
      "You are already timing task: index_run29\n",
      "You are already timing task: index_run29\n",
      "You are already timing task: index_run29\n",
      "You are already timing task: index_run29\n",
      "You are already timing task: index_run29\n",
      "You are already timing task: index_run29\n",
      "You are already timing task: index_run29\n",
      "You are already timing task: index_run29\n",
      "You are already timing task: index_run29\n",
      "You are already timing task: index_run29\n",
      "You are already timing task: index_run29\n",
      "You are already timing task: index_run29\n",
      "You are already timing task: index_run29\n",
      "You are already timing task: index_run29\n",
      "You are already timing task: index_run29\n",
      "You are already timing task: index_run29\n",
      "You are already timing task: index_run29\n",
      "You are already timing task: index_run29\n",
      "You are already timing task: index_run29\n",
      "You are already timing task: index_run29\n",
      "You are already timing task: index_run29\n",
      "You are already timing task: index_run29\n",
      "You are already timing task: index_run29\n",
      "You are already timing task: index_run29\n",
      "You are already timing task: index_run29\n",
      "You are already timing task: index_run29\n",
      "You are already timing task: index_run29\n",
      "You are already timing task: index_run29\n",
      "You are already timing task: index_run29\n",
      "You are already timing task: index_run29\n",
      "You are already timing task: index_run29\n",
      "You are already timing task: index_run29\n",
      "You are already timing task: index_run29\n",
      "You are already timing task: index_run29\n",
      "You are already timing task: index_run29\n",
      "You are already timing task: index_run29\n",
      "You are already timing task: index_run29\n",
      "You are already timing task: index_run29\n",
      "You are already timing task: index_run30\n",
      "You are already timing task: index_run30\n",
      "You are already timing task: index_run30\n",
      "You are already timing task: index_run30\n",
      "You are already timing task: index_run30\n",
      "You are already timing task: index_run30\n",
      "You are already timing task: index_run30\n",
      "You are already timing task: index_run30\n",
      "You are already timing task: index_run30\n",
      "You are already timing task: index_run30\n",
      "You are already timing task: index_run30\n",
      "You are already timing task: index_run30\n",
      "You are already timing task: index_run30\n",
      "You are already timing task: index_run30\n",
      "You are already timing task: index_run30\n",
      "You are already timing task: index_run30\n",
      "You are already timing task: index_run30\n",
      "You are already timing task: index_run30\n",
      "You are already timing task: index_run30\n",
      "You are already timing task: index_run30\n",
      "You are already timing task: index_run30\n",
      "You are already timing task: index_run30\n",
      "You are already timing task: index_run30\n",
      "You are already timing task: index_run30\n",
      "You are already timing task: index_run30\n",
      "You are already timing task: index_run30\n",
      "You are already timing task: index_run30\n",
      "You are already timing task: index_run30\n",
      "You are already timing task: index_run30\n",
      "You are already timing task: index_run30\n",
      "You are already timing task: index_run30\n",
      "You are already timing task: index_run30\n",
      "You are already timing task: index_run30\n",
      "You are already timing task: index_run30\n",
      "You are already timing task: index_run30\n",
      "You are already timing task: index_run30\n",
      "You are already timing task: index_run30\n",
      "You are already timing task: index_run30\n",
      "You are already timing task: index_run30\n",
      "You are already timing task: index_run30\n",
      "You are already timing task: index_run30\n",
      "You are already timing task: index_run30\n",
      "You are already timing task: index_run30\n",
      "You are already timing task: index_run30\n",
      "You are already timing task: index_run30\n",
      "You are already timing task: index_run30\n",
      "You are already timing task: index_run30\n",
      "You are already timing task: index_run30\n",
      "You are already timing task: index_run30\n",
      "You are already timing task: index_run30\n",
      "You are already timing task: index_run30\n",
      "You are already timing task: index_run30\n",
      "You are already timing task: index_run30\n",
      "You are already timing task: index_run30\n",
      "You are already timing task: index_run30\n",
      "You are already timing task: index_run30\n",
      "You are already timing task: index_run30\n",
      "You are already timing task: index_run30\n",
      "You are already timing task: index_run30\n",
      "You are already timing task: index_run30\n",
      "You are already timing task: index_run30\n",
      "You are already timing task: index_run30\n",
      "You are already timing task: index_run30\n",
      "You are already timing task: index_run30\n",
      "You are already timing task: index_run30\n"
     ]
    },
    {
     "name": "stderr",
     "output_type": "stream",
     "text": [
      "You are already timing task: index_run30\n",
      "You are already timing task: index_run30\n",
      "You are already timing task: index_run30\n",
      "You are already timing task: index_run30\n",
      "You are already timing task: index_run30\n",
      "You are already timing task: index_run30\n",
      "You are already timing task: index_run30\n",
      "You are already timing task: index_run30\n",
      "You are already timing task: index_run30\n",
      "You are already timing task: index_run30\n",
      "You are already timing task: index_run30\n",
      "You are already timing task: index_run30\n",
      "You are already timing task: index_run30\n",
      "You are already timing task: index_run30\n",
      "You are already timing task: index_run30\n",
      "You are already timing task: index_run30\n",
      "You are already timing task: index_run30\n",
      "You are already timing task: index_run30\n",
      "You are already timing task: index_run30\n",
      "You are already timing task: index_run30\n",
      "You are already timing task: index_run30\n",
      "You are already timing task: index_run30\n",
      "You are already timing task: index_run30\n",
      "You are already timing task: index_run30\n",
      "You are already timing task: index_run30\n",
      "You are already timing task: index_run30\n",
      "You are already timing task: index_run30\n",
      "You are already timing task: index_run30\n",
      "You are already timing task: index_run30\n",
      "You are already timing task: index_run30\n",
      "You are already timing task: index_run30\n",
      "You are already timing task: index_run30\n",
      "You are already timing task: index_run30\n",
      "You are already timing task: index_run30\n",
      "You are already timing task: index_run30\n",
      "You are already timing task: index_run30\n",
      "You are already timing task: index_run30\n",
      "You are already timing task: index_run30\n",
      "You are already timing task: index_run30\n",
      "You are already timing task: index_run30\n",
      "You are already timing task: index_run30\n",
      "You are already timing task: index_run30\n",
      "You are already timing task: index_run30\n",
      "You are already timing task: index_run30\n",
      "You are already timing task: index_run30\n",
      "You are already timing task: index_run30\n",
      "You are already timing task: index_run30\n",
      "You are already timing task: index_run30\n",
      "You are already timing task: index_run30\n",
      "You are already timing task: index_run30\n",
      "You are already timing task: index_run30\n",
      "You are already timing task: index_run30\n",
      "You are already timing task: index_run30\n",
      "You are already timing task: index_run30\n",
      "You are already timing task: index_run30\n",
      "You are already timing task: index_run30\n",
      "You are already timing task: index_run30\n",
      "You are already timing task: index_run30\n",
      "You are already timing task: index_run30\n",
      "You are already timing task: index_run30\n",
      "You are already timing task: index_run30\n",
      "You are already timing task: index_run30\n",
      "You are already timing task: index_run30\n",
      "You are already timing task: index_run30\n",
      "You are already timing task: index_run30\n",
      "You are already timing task: index_run30\n",
      "You are already timing task: index_run30\n",
      "You are already timing task: index_run30\n",
      "You are already timing task: index_run30\n",
      "You are already timing task: index_run30\n",
      "You are already timing task: index_run30\n",
      "You are already timing task: index_run30\n",
      "You are already timing task: index_run30\n",
      "You are already timing task: index_run30\n",
      "You are already timing task: index_run30\n",
      "You are already timing task: index_run30\n",
      "You are already timing task: index_run30\n",
      "You are already timing task: index_run30\n",
      "You are already timing task: index_run30\n",
      "You are already timing task: index_run30\n",
      "You are already timing task: index_run30\n",
      "You are already timing task: index_run30\n",
      "You are already timing task: index_run30\n",
      "You are already timing task: index_run30\n",
      "You are already timing task: index_run30\n",
      "You are already timing task: index_run30\n",
      "You are already timing task: index_run30\n",
      "You are already timing task: index_run30\n",
      "You are already timing task: index_run30\n",
      "You are already timing task: index_run30\n",
      "You are already timing task: index_run30\n",
      "You are already timing task: index_run30\n",
      "You are already timing task: index_run30\n",
      "You are already timing task: index_run30\n",
      "You are already timing task: index_run30\n",
      "You are already timing task: index_run30\n",
      "You are already timing task: index_run30\n",
      "You are already timing task: index_run30\n",
      "You are already timing task: index_run30\n",
      "You are already timing task: index_run30\n",
      "You are already timing task: index_run30\n",
      "You are already timing task: index_run30\n",
      "You are already timing task: index_run30\n",
      "You are already timing task: index_run30\n",
      "You are already timing task: index_run30\n",
      "You are already timing task: index_run30\n",
      "You are already timing task: index_run30\n"
     ]
    },
    {
     "name": "stdout",
     "output_type": "stream",
     "text": [
      "[WARNING] [2017-06-25 00:36:02,909:smac.intensification.intensification.Intensifier] Challenger was the same as the current incumbent; Skipping challenger\n",
      "[WARNING] [2017-06-25 00:36:02,909:smac.intensification.intensification.Intensifier] Challenger was the same as the current incumbent; Skipping challenger\n"
     ]
    },
    {
     "name": "stderr",
     "output_type": "stream",
     "text": [
      "You are already timing task: index_run30\n",
      "You are already timing task: index_run30\n",
      "You are already timing task: index_run30\n",
      "You are already timing task: index_run30\n",
      "You are already timing task: index_run30\n",
      "You are already timing task: index_run30\n",
      "You are already timing task: index_run30\n",
      "You are already timing task: index_run30\n",
      "You are already timing task: index_run30\n"
     ]
    },
    {
     "name": "stdout",
     "output_type": "stream",
     "text": [
      "[WARNING] [2017-06-25 00:37:02,436:smac.intensification.intensification.Intensifier] Challenger was the same as the current incumbent; Skipping challenger\n",
      "[WARNING] [2017-06-25 00:37:02,436:smac.intensification.intensification.Intensifier] Challenger was the same as the current incumbent; Skipping challenger\n"
     ]
    },
    {
     "name": "stderr",
     "output_type": "stream",
     "text": [
      "You are already timing task: index_run30\n",
      "You are already timing task: index_run30\n",
      "You are already timing task: index_run30\n",
      "You are already timing task: index_run30\n",
      "You are already timing task: index_run30\n",
      "You are already timing task: index_run30\n",
      "You are already timing task: index_run30\n",
      "You are already timing task: index_run30\n",
      "You are already timing task: index_run30\n",
      "You are already timing task: index_run30\n",
      "You are already timing task: index_run30\n",
      "You are already timing task: index_run30\n",
      "You are already timing task: index_run30\n",
      "You are already timing task: index_run30\n",
      "You are already timing task: index_run30\n",
      "You are already timing task: index_run30\n",
      "You are already timing task: index_run30\n",
      "You are already timing task: index_run30\n",
      "You are already timing task: index_run30\n",
      "You are already timing task: index_run30\n",
      "You are already timing task: index_run30\n",
      "You are already timing task: index_run30\n",
      "You are already timing task: index_run30\n",
      "You are already timing task: index_run30\n",
      "You are already timing task: index_run30\n",
      "You are already timing task: index_run30\n",
      "You are already timing task: index_run30\n",
      "You are already timing task: index_run30\n",
      "You are already timing task: index_run30\n",
      "You are already timing task: index_run30\n",
      "You are already timing task: index_run30\n",
      "You are already timing task: index_run30\n",
      "You are already timing task: index_run30\n",
      "You are already timing task: index_run30\n",
      "You are already timing task: index_run30\n",
      "You are already timing task: index_run30\n",
      "You are already timing task: index_run30\n",
      "You are already timing task: index_run30\n",
      "You are already timing task: index_run30\n",
      "You are already timing task: index_run30\n",
      "You are already timing task: index_run30\n",
      "You are already timing task: index_run30\n",
      "You are already timing task: index_run30\n",
      "You are already timing task: index_run30\n",
      "You are already timing task: index_run30\n",
      "You are already timing task: index_run30\n",
      "You are already timing task: index_run30\n",
      "You are already timing task: index_run30\n",
      "You are already timing task: index_run30\n",
      "You are already timing task: index_run30\n",
      "You are already timing task: index_run30\n",
      "You are already timing task: index_run30\n",
      "You are already timing task: index_run30\n",
      "You are already timing task: index_run30\n",
      "You are already timing task: index_run30\n",
      "You are already timing task: index_run30\n",
      "You are already timing task: index_run30\n",
      "You are already timing task: index_run30\n",
      "You are already timing task: index_run30\n",
      "You are already timing task: index_run30\n",
      "You are already timing task: index_run30\n",
      "You are already timing task: index_run30\n",
      "You are already timing task: index_run30\n",
      "You are already timing task: index_run30\n",
      "You are already timing task: index_run30\n",
      "You are already timing task: index_run30\n",
      "You are already timing task: index_run30\n",
      "You are already timing task: index_run30\n",
      "You are already timing task: index_run30\n",
      "You are already timing task: index_run30\n",
      "You are already timing task: index_run30\n",
      "You are already timing task: index_run30\n",
      "You are already timing task: index_run30\n",
      "You are already timing task: index_run30\n",
      "You are already timing task: index_run30\n",
      "You are already timing task: index_run30\n",
      "You are already timing task: index_run30\n",
      "You are already timing task: index_run30\n",
      "You are already timing task: index_run30\n",
      "You are already timing task: index_run30\n",
      "You are already timing task: index_run30\n",
      "You are already timing task: index_run30\n",
      "You are already timing task: index_run30\n",
      "You are already timing task: index_run30\n",
      "You are already timing task: index_run30\n",
      "You are already timing task: index_run30\n",
      "You are already timing task: index_run30\n",
      "You are already timing task: index_run30\n",
      "You are already timing task: index_run30\n",
      "You are already timing task: index_run30\n",
      "You are already timing task: index_run30\n",
      "You are already timing task: index_run30\n",
      "You are already timing task: index_run30\n",
      "You are already timing task: index_run30\n",
      "You are already timing task: index_run30\n",
      "You are already timing task: index_run30\n",
      "You are already timing task: index_run30\n",
      "You are already timing task: index_run30\n",
      "You are already timing task: index_run30\n",
      "You are already timing task: index_run30\n",
      "You are already timing task: index_run30\n",
      "You are already timing task: index_run30\n",
      "You are already timing task: index_run30\n",
      "You are already timing task: index_run30\n",
      "You are already timing task: index_run30\n",
      "You are already timing task: index_run30\n",
      "You are already timing task: index_run30\n",
      "You are already timing task: index_run30\n",
      "You are already timing task: index_run30\n"
     ]
    }
   ],
   "source": [
    "pred=get_predict(autosklearn.classification.AutoSklearnClassifier())"
   ]
  },
  {
   "cell_type": "code",
   "execution_count": 25,
   "metadata": {},
   "outputs": [
    {
     "data": {
      "text/plain": [
       "array([0, 0, 0, 1, 0, 0, 0, 1, 1, 0, 1, 1, 1, 0, 1, 1, 0, 0, 0, 1, 0, 0, 1,\n",
       "       0, 1, 1, 1, 0, 1, 0, 0, 1, 1, 0, 0, 0, 0, 0, 1, 1, 1, 1, 0, 1, 1, 0,\n",
       "       0, 1, 1, 1, 1, 0, 1, 1, 0, 0, 1, 0, 1, 1, 0, 0, 0, 1, 0, 1, 1, 0, 1,\n",
       "       0, 0, 1, 0, 0, 1, 0, 0, 0, 0, 1, 0, 0, 1, 0, 0, 1, 0, 0, 1, 0, 0, 0,\n",
       "       0, 0, 0, 0, 1, 0, 1, 0, 1, 0, 0, 0, 0, 0, 1, 0, 0, 0, 0, 1, 1, 1, 1,\n",
       "       0, 0, 1, 0, 1, 0, 0, 1, 1, 0, 1, 0, 0, 0, 0, 0, 0, 0, 1, 0, 0, 1, 0,\n",
       "       0, 0, 0, 1, 1, 0, 0, 0, 0, 1, 0, 1, 1, 1, 0, 0, 0, 0, 1, 0, 0, 1, 0,\n",
       "       1, 0, 0, 0, 1, 1, 0, 1, 0, 0, 1, 1, 0, 0, 0, 1, 1, 0, 1, 0, 1, 1, 1,\n",
       "       1, 0, 1, 0, 0, 0, 0, 0, 0, 0, 1, 1, 1, 0, 0, 1, 0, 0, 0, 0, 0, 1, 0,\n",
       "       0, 1, 0, 0, 1, 0, 0, 0, 1, 1, 1, 1, 0, 0, 0, 0, 0, 1, 1, 0, 0, 0, 0,\n",
       "       1, 1, 0, 1, 0, 1, 0, 1, 0, 1, 1, 1, 1, 0, 0, 1, 1, 1, 0, 1, 0, 1, 0,\n",
       "       0, 1, 1, 1, 1, 1, 1, 0, 1, 0, 0, 0, 0, 0, 0, 1, 1, 0, 0, 1, 0, 1, 1,\n",
       "       0, 0, 1, 0, 0, 0, 0, 1, 0, 0, 0, 0, 0, 1, 1, 1, 0, 1, 0, 0, 1, 0, 0,\n",
       "       1, 1, 0, 0, 1, 0, 1, 1, 1, 1, 0, 1, 1, 1, 0, 1, 1, 1, 0, 1, 1, 0, 0,\n",
       "       0, 1, 1, 1, 0, 1, 0, 0, 1, 0, 0, 1, 1, 0, 0, 0, 0, 0, 0, 1, 0, 1, 0,\n",
       "       1, 0, 1, 0, 0, 1, 0, 0, 0, 1, 0, 1, 1, 1, 0, 0, 0, 1, 0, 1, 0, 1, 1,\n",
       "       1, 0, 0, 1, 0, 0, 1, 1, 0, 0, 0, 0, 1, 1, 0, 0, 0, 1, 1, 0, 0, 0, 0,\n",
       "       0, 0, 0, 0, 1, 1, 1, 1, 1, 1, 0, 1, 0, 0, 0, 0, 1, 0, 0, 0, 1, 1, 0,\n",
       "       1, 1, 1, 1])"
      ]
     },
     "execution_count": 25,
     "metadata": {},
     "output_type": "execute_result"
    }
   ],
   "source": [
    "pred"
   ]
  },
  {
   "cell_type": "code",
   "execution_count": 26,
   "metadata": {
    "collapsed": true
   },
   "outputs": [],
   "source": [
    "submission = pd.DataFrame({\n",
    "        \"PassengerId\": test_df[\"PassengerId\"],\n",
    "        \"Survived\": pred\n",
    "    })"
   ]
  },
  {
   "cell_type": "code",
   "execution_count": 27,
   "metadata": {
    "collapsed": true
   },
   "outputs": [],
   "source": [
    "submission.to_csv('../reports/auto_sklearn_submission.csv', index=False)"
   ]
  }
 ],
 "metadata": {
  "kernelspec": {
   "display_name": "Python 3",
   "language": "python",
   "name": "python3"
  },
  "language_info": {
   "codemirror_mode": {
    "name": "ipython",
    "version": 3
   },
   "file_extension": ".py",
   "mimetype": "text/x-python",
   "name": "python",
   "nbconvert_exporter": "python",
   "pygments_lexer": "ipython3",
   "version": "3.5.2"
  }
 },
 "nbformat": 4,
 "nbformat_minor": 2
}
